{
 "cells": [
  {
   "cell_type": "code",
   "execution_count": 3,
   "metadata": {},
   "outputs": [],
   "source": [
    "suppressWarnings(suppressPackageStartupMessages({\n",
    "    library(tidyverse)\n",
    "    library(data.table)\n",
    "    library(EvolutionaryGames)\n",
    "    library(ggthemes)\n",
    "    library(latex2exp)\n",
    "    library(ggtext)\n",
    "}))"
   ]
  },
  {
   "cell_type": "code",
   "execution_count": 2,
   "metadata": {},
   "outputs": [],
   "source": [
    "setwd(\"/home/zuo_r/involution\")"
   ]
  },
  {
   "cell_type": "code",
   "execution_count": 4,
   "metadata": {},
   "outputs": [],
   "source": [
    "duplicate_dynamic<-function(y,x,M,N,beta1,beta2,d,c,l){\n",
    "  \n",
    "  # #-----参数解释说明------#\n",
    "  # #初始内卷的比例\n",
    "  # y<-0.5\n",
    "  # #合作中躺平的比例\n",
    "  # x<-0.5\n",
    "  # \n",
    "  # #M资源 c(5,15,25)\n",
    "  # M<-1000\n",
    "  # #N个个体\n",
    "  # N<-100\n",
    "  # \n",
    "  # #内卷相对躺平的效用\n",
    "  # beta1<-4\n",
    "  # #合作相对躺平的效用\n",
    "  # beta2<-2\n",
    "  # \n",
    "  # #more effort的成本\n",
    "  # d<-4\n",
    "  # #less effort的成本\n",
    "  # c<-1\n",
    "  # #躺平的成本\n",
    "  # l<-0.5\n",
    "  # #-----------------------#\n",
    "  \n",
    "  #这里决定用N-1\n",
    "  #需要取整\n",
    "  #Nd<-floor(y*(N-1))  #我重新尝试了取整，没有报错\n",
    "  Nd<-floor(y*(N-1))\n",
    "  Nc<-floor((N-1)*(1-y)*x)\n",
    "  Nl<-N-1-Nd-Nc\n",
    "  \n",
    "  #策略d(defect，more effort)\\策略c（cooperate, less effort）\\策略躺平l（lay down）的收益\n",
    "  #（1）个体选择策略d的期望收益\n",
    "  pai_d<-(beta1*d*M)/((Nd+1)*beta1*d+Nc*beta2*c+Nl*l)-d\n",
    "  #（2）个体选择策略c的期望收益\n",
    "  pai_c<-(beta2*c*M)/(Nd*beta1*d+(Nc+1)*beta2*c+Nl*l)-c\n",
    "  #(3)个体选择策略l的期望收益\n",
    "  pai_l<-(l*M)/(Nd*beta1*d+Nc*beta2*c+(Nl+1)*l)-l\n",
    "  \n",
    "  #群体体选择策略c或d的收益  = 概率*pai\n",
    "  #等价Pc<(choose(N-1, Nc)*((1-y)^Nc)*(y^Nd))*pai_c\n",
    "  # Pc<-(choose(N-1, Nd)*(y^Nd)*((1-y)^Nc))*pai_c\n",
    "  # Pd<-(choose(N-1, Nd)*(y^Nd)*((1-y)^Nc))*pai_d #choose计算组合数\n",
    "  \n",
    "  #n即Nd,累加收集概率 \n",
    "  #每种策略，所有该人群的期望收益\n",
    "  Pc<-0\n",
    "  Pd<-0\n",
    "  Pl<-0\n",
    "  for(n in 0:(N-1)){  \n",
    "    Pd<-Pd+(choose(N-1, n)*(y^n)*((1-y)^(N-1-n)))*pai_d\n",
    "    Pc<-Pc+(choose(N-1, n)*(y^Nd) *((1-y)*x)^n*((1-y)*(1-x))^(N-1-Nd-Nc))*pai_c\n",
    "    Pl<-Pl+(choose(N-1, n)*(y^Nd) *((1-y)*x)^Nc*((1-y)*(1-x))^n)*pai_l\n",
    "  }\n",
    "  \n",
    "  \n",
    "  #（3）群体策略的期望收益\n",
    "  R_<-y*Pd+(1-y)*x*Pc+(1-y)*(1-x)*Pl\n",
    "  \n",
    "  #(4)复制动态方程\n",
    "  #\n",
    "  y.<-ifelse(is.na(y*(Pd-R_)),0,y*(Pd-R_)) \n",
    "}"
   ]
  },
  {
   "cell_type": "code",
   "execution_count": 5,
   "metadata": {},
   "outputs": [],
   "source": [
    "#----------------------------------------------------------------------#\n",
    "#------------------------------图1-------------------------------------#\n",
    "#----------------------------------------------------------------------#\n",
    "plot_y._y<-function(M){\n",
    "  y.<-c()\n",
    "  \n",
    "  for(y in seq(0, 0.99, 0.01)){\n",
    "    temp<-duplicate_dynamic(y,x=0.5,M,N=100,beta1=4,beta2=2,d=4,c=1,l=0.5) #调整N=5，即可用M=5,15,25复现\n",
    "    \n",
    "    # N: 个体数\n",
    "    # M: 资源 c(5,15,25)\n",
    "    # c: less effort的成本\n",
    "    # beta: 投入效用\n",
    "    # d: more effort的成本\n",
    "    \n",
    "    y.<-c(y.,temp)\n",
    "  }\n",
    "  \n",
    "  df <- data.frame(x = seq(0, 0.99, 0.01), y = y.) %>% \n",
    "    mutate(y1=c(y.[-1],1)) %>% \n",
    "    mutate(y0=y*y1)#通过前一项与后一项相乘是否小于0，来获取临界点ystar\n",
    "  \n",
    "  #ystar<-df$x[df$y0<0]+0.005 #即横坐标，因为是以0.01为步长移动，取0.005为均值加上\n",
    "  \n",
    "  ystar<-ifelse(sum(df$x[df$y0<0])==0,0,df$x[df$y0<0]+0.005)\n",
    "  \n",
    "  ggplot(df,aes(x=x,y=y))+\n",
    "    geom_line(color=\"black\",size=0.3)+\n",
    "    theme_few() +\n",
    "    geom_point(aes(x=ystar,y=0))+\n",
    "    geom_text(aes(x=ystar,y=0),label=paste(\"y*:\",ystar),size=4,nudge_y = 0.001,nudge_x = 0.03,color=\"red\")+\n",
    "    geom_hline(aes(yintercept = 0),size=0.3)+\n",
    "    labs(x = \"y\", y = \"y.\")\n",
    "}\n"
   ]
  },
  {
   "cell_type": "code",
   "execution_count": 9,
   "metadata": {},
   "outputs": [
    {
     "data": {
      "image/png": "[encoded data removed]",
      "text/plain": [
       "plot without title"
      ]
     },
     "metadata": {
      "image/png": {
       "height": 420,
       "width": 420
      }
     },
     "output_type": "display_data"
    }
   ],
   "source": [
    "#---1. fig1 (a1)---#\n",
    "plot_y._y(M=3000)"
   ]
  },
  {
   "cell_type": "code",
   "execution_count": null,
   "metadata": {},
   "outputs": [],
   "source": [
    "#调节M，图像无变化？什么原因？"
   ]
  }
 ],
 "metadata": {
  "kernelspec": {
   "display_name": "R",
   "language": "R",
   "name": "ir"
  },
  "language_info": {
   "codemirror_mode": "r",
   "file_extension": ".r",
   "mimetype": "text/x-r-source",
   "name": "R",
   "pygments_lexer": "r",
   "version": "4.1.0"
  }
 },
 "nbformat": 4,
 "nbformat_minor": 2
}
