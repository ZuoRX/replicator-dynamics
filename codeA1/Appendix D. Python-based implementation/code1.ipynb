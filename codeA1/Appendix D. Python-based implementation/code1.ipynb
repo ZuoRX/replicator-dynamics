{
 "cells": [
  {
   "cell_type": "code",
   "execution_count": null,
   "metadata": {},
   "outputs": [],
   "source": [
    "source(\"game_killer.R\")\n",
    "suppressPackageStartupMessages(suppressWarnings({\n",
    "  library(tidyverse)\n",
    "  library(data.table)\n",
    "  library(progress)\n",
    "  library(parallel)\n",
    "  library(foreach)\n",
    "  library(doParallel)\n",
    "    library(tidyverse)\n",
    "library(data.table)\n",
    "library(EvolutionaryGames)\n",
    "library(ggthemes)\n",
    "library(latex2exp)\n",
    "library(ggtext)\n",
    "      library(tidyverse)\n",
    "    library(data.table)\n",
    "    library(EvolutionaryGames)\n",
    "    library(ggthemes)\n",
    "    library(latex2exp)\n",
    "    library(ggtext)\n",
    "    library(progress)\n",
    "    library(plotly)\n",
    "    library(RColorBrewer)\n",
    "    library(BB)\n",
    "}))"
   ]
  },
  {
   "cell_type": "code",
   "execution_count": null,
   "metadata": {},
   "outputs": [],
   "source": [
    "# df1 = data.frame()\n",
    "# range = seq(50,300,1)\n",
    "# for (M in range){\n",
    "#   df1=rbind(df1,get_star_by_M(M))\n",
    "# }\n",
    "# df1=df1 %>% mutate(zstar=1-xstar-ystar)"
   ]
  },
  {
   "cell_type": "code",
   "execution_count": null,
   "metadata": {},
   "outputs": [],
   "source": [
    "# fig1 <- plot_ly(df1, x = ~M, y = ~xstar, name = 'x*', type = 'scatter', mode = 'lines') \n",
    "# fig1 <- fig1 %>% add_trace(y = ~ystar, name = 'y*', mode = 'lines') \n",
    "# fig1 <- fig1 %>% add_trace(y = ~zstar, name = 'z*', mode = 'lines')\n",
    "# fig1"
   ]
  },
  {
   "cell_type": "code",
   "execution_count": null,
   "metadata": {
    "scrolled": false
   },
   "outputs": [],
   "source": [
    "# all[[3]]=data.frame(x=1)"
   ]
  },
  {
   "cell_type": "code",
   "execution_count": null,
   "metadata": {},
   "outputs": [],
   "source": [
    "N = 50\n",
    "beta_c = 1.1\n",
    "beta_d = 1.5\n",
    "M = 100\n",
    "get_star(M=M,N=N,beta_c=beta_c,beta_d=beta_d)"
   ]
  },
  {
   "cell_type": "markdown",
   "metadata": {},
   "source": [
    "# N=4"
   ]
  },
  {
   "cell_type": "code",
   "execution_count": null,
   "metadata": {},
   "outputs": [],
   "source": [
    "df = data.frame()\n",
    "N = 4\n",
    "beta_c = 1.1\n",
    "beta_d = 1.5\n",
    "\n",
    "for (M in seq(8,20,0.5)){\n",
    "    temp = get_star(M=M,N=N,beta_c=beta_c,beta_d=beta_d)\n",
    "    if (nrow(temp)>0){\n",
    "        temp = cbind(temp,M=M,n=nrow(temp))\n",
    "        df = rbind(df,temp)\n",
    "    }\n",
    "    else{\n",
    "        \n",
    "#         print(as.character(M)+\"empty\\n\")\n",
    "    }\n",
    "}"
   ]
  },
  {
   "cell_type": "code",
   "execution_count": null,
   "metadata": {
    "scrolled": true
   },
   "outputs": [],
   "source": [
    "df=df[order(df[,3],df[,1]),]\n",
    "df1 = df[seq(1,242,2),]\n",
    "df2 = df[seq(2,242,2),]\n",
    "df1$z = 1-df1$x-df1$y\n",
    "df2$z = 1-df2$x-df2$y"
   ]
  },
  {
   "cell_type": "code",
   "execution_count": null,
   "metadata": {},
   "outputs": [],
   "source": [
    "fig1 <- plot_ly(df1, x = ~M, y = ~x, name = 'x*', type = 'scatter', mode = 'lines') \n",
    "fig1 <- fig1 %>% add_trace(y = ~y, name = 'y*', mode = 'lines') \n",
    "fig1 <- fig1 %>% add_trace(y = ~z, name = 'z*', mode = 'lines')\n",
    "fig1 <- fig1 %>% layout(title = 'Condition 1', yaxis = list(title = 'equilibrium point'))\n",
    "fig1"
   ]
  },
  {
   "cell_type": "code",
   "execution_count": null,
   "metadata": {
    "scrolled": false
   },
   "outputs": [],
   "source": [
    "fig2 <- plot_ly(df2, x = ~M, y = ~x, name = 'x*', type = 'scatter', mode = 'lines') \n",
    "fig2 <- fig2 %>% add_trace(y = ~y, name = 'y*', mode = 'lines') \n",
    "fig2 <- fig2 %>% add_trace(y = ~z, name = 'z*', mode = 'lines')\n",
    "fig2 <- fig2 %>% layout(title = 'Condition 2', yaxis = list(title = 'equilibrium point'))\n",
    "fig2"
   ]
  },
  {
   "cell_type": "markdown",
   "metadata": {},
   "source": [
    "# N = 50"
   ]
  },
  {
   "cell_type": "code",
   "execution_count": null,
   "metadata": {},
   "outputs": [],
   "source": [
    "df = data.frame()\n",
    "for (i in seq(60,100,10)){\n",
    "    temp = get_star_by_M(i)\n",
    "    if (nrow(temp)>0){\n",
    "        temp = cbind(temp,M=i,n=nrow(temp))\n",
    "        df = rbind(df,temp)\n",
    "    }\n",
    "    else{\n",
    "        print(i+\"empty\\n\")\n",
    "    }\n",
    "}"
   ]
  },
  {
   "cell_type": "code",
   "execution_count": null,
   "metadata": {},
   "outputs": [],
   "source": [
    "df"
   ]
  },
  {
   "cell_type": "code",
   "execution_count": null,
   "metadata": {
    "scrolled": false
   },
   "outputs": [],
   "source": [
    "write.csv(df,\"out_50.csv\",row.names=FALSE)\n",
    "# 要自己改一下数据,下同"
   ]
  },
  {
   "cell_type": "code",
   "execution_count": null,
   "metadata": {},
   "outputs": [],
   "source": [
    "df=read.csv(\"out_50.csv\")\n",
    "df=df[order(df[,3],df[,1]),]"
   ]
  },
  {
   "cell_type": "code",
   "execution_count": null,
   "metadata": {
    "scrolled": true
   },
   "outputs": [],
   "source": [
    "df=df[order(df[,3],df[,1]),]\n",
    "df1 = df[seq(1,242,2),]\n",
    "df2 = df[seq(2,242,2),]\n",
    "df1$z = 1-df1$x-df1$y\n",
    "df2$z = 1-df2$x-df2$y"
   ]
  },
  {
   "cell_type": "code",
   "execution_count": null,
   "metadata": {},
   "outputs": [],
   "source": [
    "fig1 <- plot_ly(df1, x = ~M, y = ~x, name = 'x*', type = 'scatter', mode = 'lines') \n",
    "fig1 <- fig1 %>% add_trace(y = ~y, name = 'y*', mode = 'lines') \n",
    "fig1 <- fig1 %>% add_trace(y = ~z, name = 'z*', mode = 'lines')\n",
    "fig1 <- fig1 %>% layout(title = 'Condition 1', yaxis = list(title = 'equilibrium point'))\n",
    "fig1"
   ]
  },
  {
   "cell_type": "code",
   "execution_count": null,
   "metadata": {},
   "outputs": [],
   "source": [
    "fig2 <- plot_ly(df2, x = ~M, y = ~x, name = 'x*', type = 'scatter', mode = 'lines') \n",
    "fig2 <- fig2 %>% add_trace(y = ~y, name = 'y*', mode = 'lines') \n",
    "fig2 <- fig2 %>% add_trace(y = ~z, name = 'z*', mode = 'lines')\n",
    "fig2 <- fig2 %>% layout(title = 'Condition 2', yaxis = list(title = 'equilibrium point'))\n",
    "fig2"
   ]
  },
  {
   "cell_type": "markdown",
   "metadata": {},
   "source": [
    "# beta"
   ]
  },
  {
   "cell_type": "code",
   "execution_count": null,
   "metadata": {},
   "outputs": [],
   "source": [
    "df = data.frame()\n",
    "N= 4\n",
    "M = 10\n",
    "beta_d = 1.8\n",
    "for (beta_c in seq(0.6,1.7,0.1)){\n",
    "    temp = get_star(M=M,N=N,beta_c = beta_c,beta_d = beta_d)\n",
    "    if (nrow(temp)>0){\n",
    "        temp = cbind(temp,beta_c=beta_c,n=nrow(temp))\n",
    "        df = rbind(df,temp)\n",
    "    }\n",
    "    else{\n",
    "        print(i+\"empty\\n\")\n",
    "    }\n",
    "}"
   ]
  },
  {
   "cell_type": "code",
   "execution_count": null,
   "metadata": {},
   "outputs": [],
   "source": [
    "df"
   ]
  },
  {
   "cell_type": "code",
   "execution_count": null,
   "metadata": {
    "scrolled": false
   },
   "outputs": [],
   "source": [
    "write.csv(df,\"out_betaC.csv\",row.names=FALSE)"
   ]
  },
  {
   "cell_type": "code",
   "execution_count": null,
   "metadata": {},
   "outputs": [],
   "source": [
    "df=read.csv(\"out_betaC.csv\")\n",
    "df=df[order(df[,3],df[,1]),]"
   ]
  },
  {
   "cell_type": "code",
   "execution_count": null,
   "metadata": {
    "scrolled": true
   },
   "outputs": [],
   "source": [
    "df=df[order(df[,3],df[,1]),]\n",
    "df1 = df[seq(1,242,2),]\n",
    "df2 = df[seq(2,242,2),]\n",
    "df1$z = 1-df1$x-df1$y\n",
    "df2$z = 1-df2$x-df2$y"
   ]
  },
  {
   "cell_type": "code",
   "execution_count": null,
   "metadata": {},
   "outputs": [],
   "source": [
    "fig1 <- plot_ly(df1, x = ~beta_c, y = ~x, name = 'x*', type = 'scatter', mode = 'lines') \n",
    "fig1 <- fig1 %>% add_trace(y = ~y, name = 'y*', mode = 'lines') \n",
    "fig1 <- fig1 %>% add_trace(y = ~z, name = 'z*', mode = 'lines')\n",
    "fig1 <- fig1 %>% layout(title = 'Condition 1', yaxis = list(title = 'equilibrium point'))\n",
    "fig1"
   ]
  },
  {
   "cell_type": "code",
   "execution_count": null,
   "metadata": {},
   "outputs": [],
   "source": [
    "fig2 <- plot_ly(df2, x = ~beta_c, y = ~x, name = 'x*', type = 'scatter', mode = 'lines') \n",
    "fig2 <- fig2 %>% add_trace(y = ~y, name = 'y*', mode = 'lines') \n",
    "fig2 <- fig2 %>% add_trace(y = ~z, name = 'z*', mode = 'lines')\n",
    "fig2 <- fig2 %>% layout(title = 'Condition 2', yaxis = list(title = 'equilibrium point'))\n",
    "fig2"
   ]
  },
  {
   "cell_type": "code",
   "execution_count": null,
   "metadata": {},
   "outputs": [],
   "source": [
    "df = data.frame()\n",
    "N= 4\n",
    "M = 10\n",
    "beta_c = 1.1\n",
    "for (beta_d in seq(1.2,3,0.1)){\n",
    "    temp = get_star(M=M,N=N,beta_c = beta_c,beta_d = beta_d)\n",
    "    if (nrow(temp)>0){\n",
    "        temp = cbind(temp,beta_d=beta_d,n=nrow(temp))\n",
    "        df = rbind(df,temp)\n",
    "    }\n",
    "    else{\n",
    "        print(i+\"empty\\n\")\n",
    "    }\n",
    "}"
   ]
  },
  {
   "cell_type": "code",
   "execution_count": null,
   "metadata": {},
   "outputs": [],
   "source": [
    "df"
   ]
  },
  {
   "cell_type": "code",
   "execution_count": null,
   "metadata": {
    "scrolled": false
   },
   "outputs": [],
   "source": [
    "write.csv(df,\"out_betaD.csv\",row.names=FALSE)"
   ]
  },
  {
   "cell_type": "code",
   "execution_count": null,
   "metadata": {},
   "outputs": [],
   "source": [
    "df=read.csv(\"out_betaD.csv\")\n",
    "df=df[order(df[,3],df[,1]),]"
   ]
  },
  {
   "cell_type": "code",
   "execution_count": null,
   "metadata": {
    "scrolled": true
   },
   "outputs": [],
   "source": [
    "df=df[order(df[,3],df[,1]),]\n",
    "df1 = df[seq(1,242,2),]\n",
    "df2 = df[seq(2,242,2),]\n",
    "df1$z = 1-df1$x-df1$y\n",
    "df2$z = 1-df2$x-df2$y"
   ]
  },
  {
   "cell_type": "code",
   "execution_count": null,
   "metadata": {},
   "outputs": [],
   "source": [
    "fig1 <- plot_ly(df1, x = ~beta_d, y = ~x, name = 'x*', type = 'scatter', mode = 'lines') \n",
    "fig1 <- fig1 %>% add_trace(y = ~y, name = 'y*', mode = 'lines') \n",
    "fig1 <- fig1 %>% add_trace(y = ~z, name = 'z*', mode = 'lines')\n",
    "fig1 <- fig1 %>% layout(title = 'Condition 1', yaxis = list(title = 'equilibrium point'))\n",
    "fig1"
   ]
  },
  {
   "cell_type": "code",
   "execution_count": null,
   "metadata": {},
   "outputs": [],
   "source": [
    "fig2 <- plot_ly(df2, x = ~beta_d, y = ~x, name = 'x*', type = 'scatter', mode = 'lines') \n",
    "fig2 <- fig2 %>% add_trace(y = ~y, name = 'y*', mode = 'lines') \n",
    "fig2 <- fig2 %>% add_trace(y = ~z, name = 'z*', mode = 'lines')\n",
    "fig2 <- fig2 %>% layout(title = 'Condition 2', yaxis = list(title = 'equilibrium point'))\n",
    "fig2"
   ]
  },
  {
   "cell_type": "code",
   "execution_count": null,
   "metadata": {},
   "outputs": [],
   "source": [
    "df"
   ]
  },
  {
   "cell_type": "code",
   "execution_count": null,
   "metadata": {},
   "outputs": [],
   "source": [
    "# helper = function(xy){\n",
    "\n",
    "#   x = xy[1]\n",
    "#   y = xy[2]\n",
    "#   l=0.5\n",
    "#   Pc<-0\n",
    "#   Pd<-0\n",
    "#   Pl<-0 \n",
    "#   for (Nd in 0:(N-1)){ \n",
    "#     for (Nl in 0:(N-1-Nd)){\n",
    "#       Nc <- N-1-Nd-Nl\n",
    "#       pai_d <- beta1*d*M/(beta1*(Nd+1)*d +beta2*Nc*c     +Nl*l)-d \n",
    "#       pai_c <- beta2*c*M/(beta1*Nd*d     +beta2*(Nc+1)*c +Nl*l)-c          \n",
    "#       pai_l <-       l*M/(beta1*Nd*d     +beta2*Nc*c     +(Nl+1)*l)-l  \n",
    "#       Pd <- Pd + choose(N-1,Nd)*choose(N-1-Nd,Nl)*y^Nd*(1-x-y)^Nc*x^Nl*pai_d\n",
    "#       Pc <- Pc + choose(N-1,Nd)*choose(N-1-Nd,Nl)*y^Nd*(1-x-y)^Nc*x^Nl*pai_c\n",
    "#       Pl <- Pl + choose(N-1,Nd)*choose(N-1-Nd,Nl)*y^Nd*(1-x-y)^Nc*x^Nl*pai_l\n",
    "#     }\n",
    "#   }\n",
    "  \n",
    "#   R_ <- y*Pd+x*Pl+(1-x-y)*Pc  ##均值\n",
    "#   y. <- y*(Pd-R_)\n",
    "#   x. <- x*(Pl-R_)\n",
    "#   s.<-(1-x-y)*(Pc-R_)\n",
    "#   return (c(x.,y.))\n",
    "# }\n",
    "\n",
    "# helper_with_beta = function(xy){\n",
    "  \n",
    "#   x = xy[1]\n",
    "#   y = xy[2]\n",
    "#   l=0.5\n",
    "#   Pc<-0\n",
    "#   Pd<-0\n",
    "#   Pl<-0 \n",
    "#   for (Nd in 0:(N-1)){ \n",
    "#     for (Nl in 0:(N-1-Nd)){\n",
    "#       Nc <- N-1-Nd-Nl\n",
    "#       B1 = beta1 - (beta1-1)/(1+exp((-10)*(Nc/N-0.5)))\n",
    "#       B2 = beta2 - (beta2-beta1)/(1+exp((-10)*(Nd/N-0.5)))\n",
    "#       pai_d <- B1*d*M/(B1*(Nd+1)*d +B2*Nc*c     +Nl*l)-d \n",
    "#       pai_c <- B2*c*M/(B1*Nd*d     +B2*(Nc+1)*c +Nl*l)-c          \n",
    "#       pai_l <-       l*M/(B1*Nd*d     +B2*Nc*c     +(Nl+1)*l)-l  \n",
    "#       Pd <- Pd + choose(N-1,Nd)*choose(N-1-Nd,Nl)*y^Nd*(1-x-y)^Nc*x^Nl*pai_d\n",
    "#       Pc <- Pc + choose(N-1,Nd)*choose(N-1-Nd,Nl)*y^Nd*(1-x-y)^Nc*x^Nl*pai_c\n",
    "#       Pl <- Pl + choose(N-1,Nd)*choose(N-1-Nd,Nl)*y^Nd*(1-x-y)^Nc*x^Nl*pai_l\n",
    "#     }\n",
    "#   }\n",
    "  \n",
    "#   R_ <- y*Pd+x*Pl+(1-x-y)*Pc  ##均值\n",
    "#   y. <- y*(Pd-R_)\n",
    "#   x. <- x*(Pl-R_)\n",
    "#   s.<-(1-x-y)*(Pc-R_)\n",
    "#   return (c(x.,y.))\n",
    "# }\n",
    "\n",
    "# get_star_by_M = function(M){\n",
    "#   beta1<<-1.5\n",
    "#   beta2<<-1.1\n",
    "#   M<<-M\n",
    "#   N<<-50\n",
    "#   d<<-4\n",
    "#   c<<-1\n",
    "#   l<<-0.5\n",
    "#   out = dfsane(c(0.3,0.3),helper)\n",
    "#   return(out)\n",
    "# }"
   ]
  },
  {
   "cell_type": "code",
   "execution_count": null,
   "metadata": {},
   "outputs": [],
   "source": [
    "# pioneer = get_star_by_M(50)\n",
    "# all = list()\n",
    "# for (i in 1:nrow(pioneer)){\n",
    "#     append(all,pioneer[i,])\n",
    "# }"
   ]
  },
  {
   "cell_type": "code",
   "execution_count": null,
   "metadata": {
    "scrolled": true
   },
   "outputs": [],
   "source": [
    "# pioneer = get_star_by_M(50)\n",
    "# all=split(pioneer,f=row.names(pioneer))\n",
    "# for (M in seq(50,200,10)){\n",
    "#     out = get_star_by_M(M)\n",
    "#     print(out)\n",
    "#     if (length(out)==0){\n",
    "#         next\n",
    "#     }\n",
    "#     if (length(nrow(out)>length(all))){\n",
    "#         not_considered = 10000\n",
    "#         range = 1:length(all)\n",
    "#         for (i in 1:nrow(out)){\n",
    "#             nex = out[i,]\n",
    "#             place = 10000\n",
    "#             for (j in range){\n",
    "#                 prio = all[[j]]\n",
    "#                 prio = prio[nrow(prio),]\n",
    "#                 dis_temp = abs(nex$x-prio$x)+abs(nex$y-prio$y)\n",
    "#                 if (dis_temp>0.6){\n",
    "#                     all[[length(all)+1]]=nex\n",
    "#                     not_considered=i\n",
    "#                     range = (1:length(all))[-j]\n",
    "#                 }\n",
    "#             }  \n",
    "#         }\n",
    "#         for (i in (1:nrow(out)[-i])){\n",
    "#             nex = out[i,]\n",
    "#             place = place\n",
    "#             dis = +Inf\n",
    "#             apend =FALSE\n",
    "#             for (j in range[-place]){\n",
    "#                 prio = all[[j]]\n",
    "#                 prio = prio[nrow(prio),]\n",
    "#                 dis_temp = abs(nex$x-prio$x)+abs(nex$y-prio$y)\n",
    "\n",
    "#                 if (dis_temp<dis){\n",
    "#                     dis = dis_temp\n",
    "#                     place = j\n",
    "#                     apend = TRUE\n",
    "#                 }\n",
    "#             }\n",
    "#             if (apend){\n",
    "#                 all[[place]]=rbind(all[[place]],nex)  \n",
    "#             }\n",
    "#         }\n",
    "#     }\n",
    "#     else{\n",
    "#         range = 1:length(all) \n",
    "#         for (i in 1:nrow(out)){\n",
    "#             nex = out[i,]\n",
    "#             place = 100\n",
    "#             dis = +Inf\n",
    "#             for (j in range){\n",
    "#                 prio = all[[j]]\n",
    "#                 prio = prio[nrow(prio),]\n",
    "#                 dis_temp = abs(nex$x-prio$x)+abs(nex$y-prio$y)\n",
    "#                 if (dis_temp<dis){\n",
    "#                     dis = dis_temp\n",
    "#                     range = range[-j]\n",
    "#                 }\n",
    "#             }\n",
    "#           all[[place]]=rbind(all[[place]],nex)  \n",
    "#         }\n",
    "#     } \n",
    "# }"
   ]
  }
 ],
 "metadata": {
  "kernelspec": {
   "display_name": "R",
   "language": "R",
   "name": "ir"
  },
  "language_info": {
   "codemirror_mode": "r",
   "file_extension": ".r",
   "mimetype": "text/x-r-source",
   "name": "R",
   "pygments_lexer": "r",
   "version": "4.1.0"
  }
 },
 "nbformat": 4,
 "nbformat_minor": 5
}
